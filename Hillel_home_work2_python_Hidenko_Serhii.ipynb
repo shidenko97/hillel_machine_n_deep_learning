{
 "cells": [
  {
   "cell_type": "markdown",
   "metadata": {
    "colab_type": "text",
    "id": "6bPzCj9fYvqQ"
   },
   "source": [
    "## Лабораторная работа 1. **Python** 🐍"
   ]
  },
  {
   "cell_type": "markdown",
   "metadata": {
    "colab_type": "text",
    "id": "xNEPGcmNviB1"
   },
   "source": [
    "## Часть 1. Python\n",
    "\n",
    "В этом разделе Вам будет предложенно решить несколько задач воспользовавшись средствами языка python. Решение каждой задачи подразумевает написание кода и демонстрация его работоспособности на примерах. Оцениваться будет: эффективность кода с точки зрения алгоритмов, чистота кода, корректность работы предложенного решения и полнота разборов крайних случаев.  \n",
    "\n",
    "Обратите внимание на [типизацию](https://docs.python.org/3/library/typing.html) параметров функций. При написании кода не забывайте удалять ```pass```!\n",
    "\n",
    "**Перед отправкой решений на проверку, добавьте в название файла свое имя и фамилию.**\n",
    "\n",
    "Пример: ``` Hillel_home_work1_python_philipp_kofman.ipynb```\n",
    "\n",
    "Если вы нашли грамматические или любые другие ошибки - сообщите мне о них в приватных сообщения 😇"
   ]
  },
  {
   "cell_type": "markdown",
   "metadata": {
    "colab_type": "text",
    "id": "lDWgqlfYxjNZ"
   },
   "source": [
    "**Задача 1.** На вход функция принимает строку ```s```. Функция должна вернуть ```True``` если строка является [палиндромом](https://ru.wikipedia.org/wiki/%D0%9F%D0%B0%D0%BB%D0%B8%D0%BD%D0%B4%D1%80%D0%BE%D0%BC) и ```False``` - в противном случае. \n",
    "\n",
    "Пример: ```is_palindrome(s='pylyp') -> True```\n",
    "\n",
    "[1 бал]"
   ]
  },
  {
   "cell_type": "code",
   "execution_count": 1,
   "metadata": {
    "colab": {
     "base_uri": "https://localhost:8080/",
     "height": 136
    },
    "colab_type": "code",
    "id": "qbvVdyjQxh-_",
    "outputId": "a60a5ac5-98e7-49b6-8eb7-99d522968174",
    "pycharm": {
     "is_executing": false
    }
   },
   "outputs": [
    {
     "name": "stdout",
     "text": [
      "Function is_palindrome\n",
      "    Check is string is palindrome\n",
      "    :param s: String to check\n",
      "    :type s: str\n",
      "    :return: Is string palindrome\n",
      "    :rtype: bool\n",
      "    \n",
      "is_palindrome(s='pylyp') -> True\n",
      "is_palindrome(s='py') -> False\n",
      "is_palindrome(s='pip') -> True\n",
      "is_palindrome(s='who are you?') -> False\n",
      "is_palindrome(s='123454321') -> True\n",
      "is_palindrome(s='racecar') -> True\n",
      "is_palindrome(s='deified') -> True\n"
     ],
     "output_type": "stream"
    }
   ],
   "source": [
    "def is_palindrome(s: str) -> bool:\n",
    "    \"\"\"\n",
    "    Check is string is palindrome\n",
    "    :param s: String to check\n",
    "    :type s: str\n",
    "    :return: Is string palindrome\n",
    "    :rtype: bool\n",
    "    \"\"\"\n",
    "    \n",
    "    if s == s[::-1]:\n",
    "        return True\n",
    "    return False\n",
    "\n",
    "\n",
    "print(f\"Function {is_palindrome.__name__}{is_palindrome.__doc__}\")\n",
    "for palindroms in (\n",
    "    \"pylyp\", \"py\", \"pip\", \"who are you?\", \"123454321\", \"racecar\", \"deified\"\n",
    "):\n",
    "    print(f\"is_palindrome(s='{palindroms}') -> {is_palindrome(palindroms)}\")"
   ]
  },
  {
   "cell_type": "markdown",
   "metadata": {
    "colab_type": "text",
    "id": "rVKNNE9ayzHE"
   },
   "source": [
    "**Задача 2.** [Квадратное уравнение](https://ru.wikipedia.org/wiki/%D0%9A%D0%B2%D0%B0%D0%B4%D1%80%D0%B0%D1%82%D0%BD%D0%BE%D0%B5_%D1%83%D1%80%D0%B0%D0%B2%D0%BD%D0%B5%D0%BD%D0%B8%D0%B5) задается формулой $ ax^2+bx + c = 0$. Напишите функцию которая принимает параметры квадратного уравнения, а возвращает решение или решения. \n",
    "\n",
    "Примеры:\n",
    "\n",
    "```solve_quad(a=1, b=-2, c=1) -> 1```\n",
    "\n",
    "```solve_quad(a=1, b=0, c=-1) -> (-1, 1)```\n",
    "\n",
    "```solve_quad(a=0, b=2, c=-1) -> 0.5```\n",
    "\n",
    "[2 бала]"
   ]
  },
  {
   "cell_type": "code",
   "execution_count": 2,
   "metadata": {
    "colab": {
     "base_uri": "https://localhost:8080/",
     "height": 153
    },
    "colab_type": "code",
    "id": "z7IrmmgUu1fZ",
    "outputId": "e81365a0-f78e-44fb-d111-b35d2fcd4e05",
    "pycharm": {
     "is_executing": false
    }
   },
   "outputs": [
    {
     "name": "stdout",
     "text": [
      "Function solve_quad\n",
      "    Solve a quadratic expression\n",
      "    :param a: First part of expression\n",
      "    :type a: float\n",
      "    :param b: Second part of expression\n",
      "    :type b: float\n",
      "    :param c: Third part of expression\n",
      "    :type c: float\n",
      "    :return: Root(s) of expresion if exists\n",
      "    \n",
      "solve_quad(a=1, b=-2, c=1) -> 1.0\n",
      "solve_quad(a=1, b=0, c=-1) -> (-1.0, 1.0)\n",
      "solve_quad(a=0, b=2, c=-1) -> 0.5\n",
      "solve_quad(a=0, b=0, c=0) -> None\n",
      "solve_quad(a=0, b=0, c=1) -> None\n",
      "solve_quad(a=0, b=1, c=0) -> 0.0\n",
      "solve_quad(a=1, b=0, c=0) -> 0.0\n",
      "solve_quad(a=1, b=1, c=0) -> (-1.0, 0.0)\n"
     ],
     "output_type": "stream"
    }
   ],
   "source": [
    "def solve_quad(a: float, b: float, c: float):\n",
    "    \"\"\"\n",
    "    Solve a quadratic expression\n",
    "    :param a: First part of expression\n",
    "    :type a: float\n",
    "    :param b: Second part of expression\n",
    "    :type b: float\n",
    "    :param c: Third part of expression\n",
    "    :type c: float\n",
    "    :return: Root(s) of expresion if exists\n",
    "    \"\"\"\n",
    "    \n",
    "    # If a equal 0 - the expression is linear, not quadratic  \n",
    "    if a == 0:\n",
    "        return -c / b if b != 0 else None\n",
    "    \n",
    "    # Getting discriminant\n",
    "    discriminant: float = b ** 2 - 4 * a * c\n",
    "    \n",
    "    if discriminant < 0:\n",
    "        return None\n",
    "    elif discriminant == 0:\n",
    "        return -b / 2 * a\n",
    "    else:\n",
    "        x1: float = (-b - discriminant ** 0.5) / 2 * a\n",
    "        x2: float = (-b + discriminant ** 0.5) / 2 * a\n",
    "        return x1, x2\n",
    "\n",
    "\n",
    "print(f\"Function {solve_quad.__name__}{solve_quad.__doc__}\")\n",
    "for quads in (\n",
    "    (1, -2, 1), \n",
    "    (1, 0, -1), \n",
    "    (0, 2, -1), \n",
    "    (0, 0, 0), \n",
    "    (0, 0, 1), \n",
    "    (0, 1, 0), \n",
    "    (1, 0, 0), \n",
    "    (1, 1, 0)\n",
    "):\n",
    "    print(f\"solve_quad(a={quads[0]}, b={quads[1]}, c={quads[2]})\"\n",
    "          f\" -> {solve_quad(*quads)}\") "
   ]
  },
  {
   "cell_type": "markdown",
   "metadata": {
    "colab_type": "text",
    "id": "6DE5uL6T0-9z"
   },
   "source": [
    "**Задача 3.** Реализуйте функцию ```merge```. На вход функция принимает 2 **отсортированных** массива - ```a``` и ```b```. Функция должна вернуть один отсортированный масив сосстоящий из всех элементов массивов ```a``` и ```b```. Алгоритм должен работать с асимптотикой O(n + m), где ```n``` и ```m``` длины массивов ```a``` и ```b``` соответственно.\n",
    "\n",
    "Пример: ```merge([1, 1, 2, 3], [1, 2, 2, 3]) -> [1, 1, 1, 2, 2, 2, 3, 3]```\n",
    "\n",
    "[2 бала]"
   ]
  },
  {
   "cell_type": "code",
   "execution_count": 3,
   "metadata": {
    "colab": {
     "base_uri": "https://localhost:8080/",
     "height": 68
    },
    "colab_type": "code",
    "id": "yPWTVlEr2ctL",
    "outputId": "35f7e578-14ce-4cee-b479-c8f992316bf9",
    "pycharm": {
     "is_executing": false
    }
   },
   "outputs": [
    {
     "name": "stdout",
     "text": [
      "Function merge\n",
      "    Merge two sorted lists\n",
      "    :param a: First list\n",
      "    :type a: List[int]\n",
      "    :param b: Second list\n",
      "    :type b: List[int]\n",
      "    :return: Result list\n",
      "    :rtype: List[int]\n",
      "    \n",
      "merge(([1, 3, 5, 7], [2, 4, 6, 8])) -> [1, 3, 5, 7, 2, 4, 6, 8]\n",
      "merge(([1, 1, 5, 7], [1, 5, 6, 8])) -> [1, 1, 1, 5, 7, 5, 6, 8]\n",
      "merge(([0, 0, 0, 1], [1, 2, 3, 4])) -> [0, 0, 0, 1, 1, 2, 3, 4]\n"
     ],
     "output_type": "stream"
    }
   ],
   "source": [
    "from typing import List\n",
    "\n",
    "\n",
    "def merge(a: List[int], b: List[int]) -> List[int]:\n",
    "    \"\"\"\n",
    "    Merge two sorted lists\n",
    "    :param a: First list\n",
    "    :type a: List[int]\n",
    "    :param b: Second list\n",
    "    :type b: List[int]\n",
    "    :return: Result list\n",
    "    :rtype: List[int]\n",
    "    \"\"\"\n",
    "    \n",
    "    c: List[int] = []\n",
    "    \n",
    "    i, j = 0, 0\n",
    "    \n",
    "    while i < len(a) and j < len(b):\n",
    "    \n",
    "        if a[i] < b[j]:\n",
    "            c.append(a[i])\n",
    "            i += 1\n",
    "        else:\n",
    "            c.append(b[j])\n",
    "            j += 1\n",
    "        \n",
    "        while i < len(a):\n",
    "            c.append(a[i])\n",
    "            i += 1  \n",
    "        \n",
    "        while j < len(b):\n",
    "            c.append(b[j])\n",
    "            j += 1\n",
    "    \n",
    "    return c\n",
    "\n",
    "\n",
    "print(f\"Function {merge.__name__}{merge.__doc__}\")\n",
    "for two_lists in (\n",
    "    ([1, 3, 5, 7], [2, 4, 6, 8]),\n",
    "    ([1, 1, 5, 7], [1, 5, 6, 8]),\n",
    "    ([0, 0, 0, 1], [1, 2, 3, 4]),\n",
    "):\n",
    "    print(f\"merge({two_lists}) -> {merge(*two_lists)}\") "
   ]
  },
  {
   "cell_type": "markdown",
   "metadata": {
    "colab_type": "text",
    "id": "QuSxyydy3JOa"
   },
   "source": [
    "**Задача 4.** Классическая задача 😏. Реализуйте функцию которая находит ```n```-тое число [Фибоначчи](https://ru.wikipedia.org/wiki/%D0%A7%D0%B8%D1%81%D0%BB%D0%B0_%D0%A4%D0%B8%D0%B1%D0%BE%D0%BD%D0%B0%D1%87%D1%87%D0%B8). \n",
    "\n",
    "Рекурсивное решение сложностью $ O(2^n) $ - [1 бал]\n",
    "\n",
    "Линейное решение сложностью $ O(n) $ времени выполнения и $ O(n) $ памяти - [2 бала]\n",
    "\n",
    "Линейное решение сложностью $ O(n) $ времени выполнения и $ O(1) $ памяти - [2 бала]\n",
    "\n",
    "Логарифмическое решение с использованием формулы с дробными коэфициентами. $ O(log n) $ времени выполнения и $ O(1) $ памяти - [2 бала]\n",
    "\n",
    "Логарифмическое решение без использования дробных коэфициентов. $ O(log n) $ времени выполнения и $ O(1) $ памяти - [3 бала]\n"
   ]
  },
  {
   "cell_type": "code",
   "execution_count": 4,
   "metadata": {
    "colab": {
     "base_uri": "https://localhost:8080/",
     "height": 272
    },
    "colab_type": "code",
    "id": "uDsNM9-94vKf",
    "outputId": "a1013b8c-e3ec-4eca-8ecd-93fa666e6e10",
    "pycharm": {
     "is_executing": false
    }
   },
   "outputs": [
    {
     "name": "stdout",
     "text": [
      "Function fib\n",
      "    Get n-index number of the Fibonacci numbers\n",
      "    :param n: Index of number\n",
      "    :type n: int\n",
      "    :return: Number from the Fibonacci numbers\n",
      "    :rtype: int\n",
      "    \n",
      "fib(1) -> 1\n",
      "fib(2) -> 1\n",
      "fib(3) -> 2\n",
      "fib(4) -> 3\n",
      "fib(5) -> 5\n",
      "fib(6) -> 8\n",
      "fib(7) -> 13\n",
      "fib(8) -> 21\n",
      "fib(9) -> 34\n",
      "fib(10) -> 55\n",
      "fib(11) -> 89\n",
      "fib(12) -> 144\n",
      "fib(13) -> 233\n",
      "fib(14) -> 377\n",
      "fib(15) -> 610\n"
     ],
     "output_type": "stream"
    }
   ],
   "source": [
    "def fib(n: int) -> int:\n",
    "    \"\"\"\n",
    "    Get n-index number of the Fibonacci numbers\n",
    "    :param n: Index of number\n",
    "    :type n: int\n",
    "    :return: Number from the Fibonacci numbers\n",
    "    :rtype: int\n",
    "    \"\"\"\n",
    "    \n",
    "    a: int = 1\n",
    "    ta: int\n",
    "    b: int = 1\n",
    "    tb: int \n",
    "    c: int = 1\n",
    "    rc: int = 0\n",
    "    tc: int\n",
    "    d: int = 0\n",
    "    rd: int = 1\n",
    "    \n",
    "    while n:\n",
    "        if n & 1:\n",
    "            tc = rc\n",
    "            rc = rc * a + rd * c\n",
    "            rd = tc * b + rd * d\n",
    "    \n",
    "        ta, tb, tc = a, b, c\n",
    "        a = a ** 2 + b * c\n",
    "        b = ta * b + b * d\n",
    "        c = c * ta + d * c\n",
    "        d = tc * tb+ d * d\n",
    "    \n",
    "        n >>= 1\n",
    "    \n",
    "    return rc\n",
    "\n",
    "\n",
    "print(f\"Function {fib.__name__}{fib.__doc__}\")\n",
    "for num in range(1, 16):\n",
    "    print(f\"fib({num}) -> {fib(num)}\")"
   ]
  },
  {
   "cell_type": "markdown",
   "metadata": {
    "colab_type": "text",
    "id": "PkFImNtb44aO"
   },
   "source": [
    "**Задача 5.** Вы получили данные о магазине и продуктах в этих магазинах в виде словаря ```dict()```. Необходимо создать обратный словарь, содержащий название товара и наименования магазинов, в которых этот товар представлен. Напишите самостоятельно функцию принимающую и возвращающую словарь.\n",
    "\n",
    "Пример:\n",
    "\n",
    "Input: ```{‘rozetka’: [‘iphone’, ‘macbook’, ‘ipad’],\n",
    "‘fua’: [‘macbook’, ‘ipad’],\n",
    "‘citrus’: [‘iphone’, ‘macbook’, ‘earpods’],\n",
    "‘allo’: [‘earpods’, ‘iphone’]}```\n",
    "\n",
    "Output: ```{‘iphone’: [‘rozetka’, ‘citrus’, ‘allo’],\n",
    " ‘macbook’: [‘rozetka’, ‘fua’, ‘citrus’],\n",
    " ‘ipad’: [‘rozetka’, ‘fua’],\n",
    " ‘earpods’: [‘allo’, ‘citrus’]}```\n",
    "\n",
    " [2 бала]\n",
    "\n"
   ]
  },
  {
   "cell_type": "code",
   "execution_count": 5,
   "metadata": {
    "colab": {
     "base_uri": "https://localhost:8080/",
     "height": 54
    },
    "colab_type": "code",
    "id": "iNLsTfXK5jap",
    "outputId": "3931e1a6-c7b6-4211-be14-194153c9d6b9",
    "pycharm": {
     "is_executing": false
    }
   },
   "outputs": [
    {
     "name": "stdout",
     "text": [
      "Function products_with_shops\n",
      "    Returns shops for specific product\n",
      "    :param shops: Dictionary of shops and products\n",
      "    :type shops: dict\n",
      "    :return: Dict of products and their shops\n",
      "    :rtype: dict\n",
      "    \n",
      "products_with_shops({'rozetka': ['iphone', 'macbook', 'ipad'], 'fua': ['macbook', 'ipad'], 'citrus': ['iphone', 'macbook', 'earpods'], 'allo': ['earpods', 'iphone']}) -> {'macbook': ['rozetka', 'fua', 'citrus'], 'ipad': ['rozetka', 'fua'], 'iphone': ['rozetka', 'citrus', 'allo'], 'earpods': ['citrus', 'allo']}\n"
     ],
     "output_type": "stream"
    }
   ],
   "source": [
    "from collections import defaultdict\n",
    "\n",
    "\n",
    "shops_with_products: dict = {\n",
    "    \"rozetka\": [\"iphone\", \"macbook\", \"ipad\"], \n",
    "    \"fua\": [\"macbook\", \"ipad\"], \n",
    "    \"citrus\": [\"iphone\", \"macbook\", \"earpods\"], \n",
    "    \"allo\": [\"earpods\", \"iphone\"]\n",
    "}\n",
    "\n",
    "\n",
    "def products_with_shops(shops: dict) -> dict:\n",
    "    \"\"\"\n",
    "    Returns shops for specific product\n",
    "    :param shops: Dictionary of shops and products\n",
    "    :type shops: dict\n",
    "    :return: Dict of products and their shops\n",
    "    :rtype: dict\n",
    "    \"\"\"\n",
    "    \n",
    "    products: set = set()\n",
    "    result = defaultdict(list)\n",
    "    \n",
    "    for product in shops.values():\n",
    "        products.update(product)\n",
    "    \n",
    "    for key, values in shops.items():\n",
    "        for product in products:\n",
    "            if product in values:\n",
    "                result[product].append(key)\n",
    "    \n",
    "    return dict(result)\n",
    "\n",
    "\n",
    "print(f\"Function {products_with_shops.__name__}{products_with_shops.__doc__}\")\n",
    "print(f\"products_with_shops({shops_with_products})\"\n",
    "      f\" -> {products_with_shops(shops_with_products)}\")"
   ]
  },
  {
   "cell_type": "markdown",
   "metadata": {
    "colab_type": "text",
    "id": "7S6uAT6J5tom"
   },
   "source": [
    "**Задача 6.** Реализуйте алгоритм [MergeSort](https://ru.wikipedia.org/wiki/%D0%A1%D0%BE%D1%80%D1%82%D0%B8%D1%80%D0%BE%D0%B2%D0%BA%D0%B0_%D1%81%D0%BB%D0%B8%D1%8F%D0%BD%D0%B8%D0%B5%D0%BC). Рекомендуется переиспользовать решение *задачи 3* \n",
    "\n",
    "Пример: ```MergeSort([1, 3, 2, 1]) -> [1, 1, 2, 3]```\n",
    "\n",
    "[2 бала]"
   ]
  },
  {
   "cell_type": "code",
   "execution_count": 6,
   "metadata": {
    "colab": {
     "base_uri": "https://localhost:8080/",
     "height": 34
    },
    "colab_type": "code",
    "id": "d0MhDwHd5s5p",
    "outputId": "f8ed7b85-9de3-4dbb-9eb4-dd6f2b99caf6",
    "pycharm": {
     "is_executing": false
    }
   },
   "outputs": [
    {
     "name": "stdout",
     "text": [
      "Function MergeSort\n",
      "    Sort list with merge sort\n",
      "    :param L: List to sort\n",
      "    :type L: List[int]\n",
      "    :return: Sorted list\n",
      "    :rtype: List[int]\n",
      "    \n",
      "MergeSort([1, 3, 2, 1, 4, 7, 7, 6, 8, 0, 1]) -> [0, 1, 1, 1, 2, 3, 4, 6, 7, 7, 8]\n"
     ],
     "output_type": "stream"
    }
   ],
   "source": [
    "def MergeSort(L: List[int]):\n",
    "    \"\"\"\n",
    "    Sort list with merge sort\n",
    "    :param L: List to sort\n",
    "    :type L: List[int]\n",
    "    :return: Sorted list\n",
    "    :rtype: List[int]\n",
    "    \"\"\"\n",
    "\n",
    "    if len(L) > 1:\n",
    "        middle = len(L) // 2\n",
    "        l_arr = L[:middle]\n",
    "        r_arr = L[middle:]\n",
    "        \n",
    "        MergeSort(l_arr)\n",
    "        MergeSort(r_arr)\n",
    "    \n",
    "        i, j, k = 0, 0, 0\n",
    "        \n",
    "        while i < len(l_arr) and j < len(r_arr):\n",
    "        \n",
    "            if l_arr[i] < r_arr[j]:\n",
    "                L[k] = l_arr[i]\n",
    "                i += 1\n",
    "            else:\n",
    "                L[k] = r_arr[j]\n",
    "                j += 1\n",
    "            k += 1\n",
    "    \n",
    "        while i < len(l_arr):\n",
    "            L[k] = l_arr[i]\n",
    "            i += 1 \n",
    "            k += 1 \n",
    "        \n",
    "        while j < len(r_arr):\n",
    "            L[k] = r_arr[j]\n",
    "            j += 1\n",
    "            k += 1\n",
    "\n",
    "\n",
    "print(f\"Function {MergeSort.__name__}{MergeSort.__doc__}\")\n",
    "array = [1, 3, 2, 1, 4, 7, 7, 6, 8, 0, 1,]\n",
    "print(f\"MergeSort({array}) -> \", end=\"\")\n",
    "MergeSort(array)\n",
    "print(array)"
   ]
  },
  {
   "cell_type": "markdown",
   "metadata": {
    "colab_type": "text",
    "id": "NAcnf09G6yNP"
   },
   "source": [
    "**Задача 7.** Напишите функцию, принимающую строку и возвращающую словарь ```dict()``` содержащий все символы в тексте и количество их вхождений (сколько раз символ присутствует в тексте)\n",
    "\n",
    "[2 бала]\n"
   ]
  },
  {
   "cell_type": "code",
   "execution_count": 7,
   "metadata": {
    "colab": {},
    "colab_type": "code",
    "id": "4kqSvXud7K7X",
    "pycharm": {
     "is_executing": false
    }
   },
   "outputs": [],
   "source": [
    "text = \"\"\"Однажды весною, в час небывало жаркого заката, в Москве, на Патриарших прудах, появились два гражданина. Первый из них, одетый в летнюю серенькую пару, был маленького роста, упитан, лыс, свою приличную шляпу пирожком нес в руке, а на хорошо выбритом лице его помещались сверхъестественных размеров очки в черной роговой оправе. Второй – плечистый, рыжеватый, вихрастый молодой человек в заломленной на затылок клетчатой кепке – был в ковбойке, жеваных белых брюках и в черных тапочках. Первый был не кто иной, как Михаил Александрович Берлиоз, председатель правления одной из крупнейших московских литературных ассоциаций, сокращенно именуемой МАССОЛИТ и редактор толстого художественного журнала, а молодой спутник его – поэт Иван Николаевич Понырев, пишущий под псевдонимом Бездомный. Попав в тень чуть зеленеющих лип, писатели первым долгом бросились к пестро раскрашенной будочке с надписью «Пиво и воды». Да, следует отметить первую странность этого страшного майского вечера. Не только у будочки, но и во всей аллее, параллельной Малой Бронной улице, не оказалось ни одного человека. В тот час, когда уж, кажется, и сил не было дышать, когда солнце, раскалив Москву, в сухом тумане валилось куда-то за Садовое кольцо, – никто не пришел под липы, никто не сел на скамейку, пуста была аллея.\"\"\".lower()"
   ]
  },
  {
   "cell_type": "code",
   "execution_count": 8,
   "metadata": {
    "colab": {
     "base_uri": "https://localhost:8080/",
     "height": 54
    },
    "colab_type": "code",
    "id": "5EjQKU_R7Cmf",
    "outputId": "2046656f-165e-40b0-b5f0-1d67e7a6771d",
    "pycharm": {
     "is_executing": false
    }
   },
   "outputs": [
    {
     "name": "stdout",
     "text": [
      "Function counter\n",
      "    Get dict of characters and their counts\n",
      "    :param test: String to analyze\n",
      "    :type test: str\n",
      "    :return: Dict of result\n",
      "    :rtype: dict\n",
      "    \n",
      "{'о': 119, 'д': 31, 'н': 65, 'а': 85, 'ж': 10, 'ы': 28, ' ': 193, 'в': 52, 'е': 89, 'с': 54, 'ю': 10, ',': 32, 'ч': 17, 'б': 16, 'л': 60, 'р': 51, 'к': 47, 'г': 15, 'з': 11, 'т': 50, 'м': 26, 'п': 38, 'и': 62, 'ш': 9, 'х': 19, 'у': 28, 'я': 5, 'ь': 17, '.': 8, 'й': 28, 'ц': 6, 'щ': 4, 'ъ': 1, '–': 4, 'э': 2, '«': 1, '»': 1, '-': 1}\n"
     ],
     "output_type": "stream"
    }
   ],
   "source": [
    "from collections import Counter\n",
    "\n",
    "\n",
    "def counter(test: str) -> dict:\n",
    "    \"\"\"\n",
    "    Get dict of characters and their counts\n",
    "    :param test: String to analyze\n",
    "    :type test: str\n",
    "    :return: Dict of result\n",
    "    :rtype: dict\n",
    "    \"\"\"\n",
    "    \n",
    "    return dict(Counter(test))\n",
    "\n",
    "\n",
    "print(f\"Function {counter.__name__}{counter.__doc__}\")\n",
    "print(counter(text))"
   ]
  },
  {
   "cell_type": "markdown",
   "metadata": {
    "colab_type": "text",
    "id": "yKEws6IK9h3d"
   },
   "source": [
    "**Задача 8.** Реализуйте бесконечный∞ генератор [простых чисел](https://uk.wikipedia.org/wiki/%D0%9F%D1%80%D0%BE%D1%81%D1%82%D0%B5_%D1%87%D0%B8%D1%81%D0%BB%D0%BE).\n",
    "\n",
    "Пример: \n",
    "\n",
    "```p = prime()``` \n",
    "\n",
    "```[next(p) for _ in range(10)] -> [2, 3, 5, 7, 11, 13, 17, 19, 23, 29]```\n",
    "\n",
    "[2 бала]"
   ]
  },
  {
   "cell_type": "code",
   "execution_count": 9,
   "metadata": {
    "colab": {
     "base_uri": "https://localhost:8080/",
     "height": 88
    },
    "colab_type": "code",
    "id": "anVakfdj-U6o",
    "outputId": "b22f5c60-c97e-4793-99fd-a14cdbecbe6b",
    "pycharm": {
     "is_executing": false
    }
   },
   "outputs": [
    {
     "name": "stdout",
     "text": [
      "Function prime\n",
      "    Infinite generator of simple numbers\n",
      "    \n",
      "p = prime()\n",
      "[next(p) for _ in range(10)] -> [2, 3, 5, 7, 11, 13, 17, 19, 23, 29]\n",
      "[next(p) for _ in range(20)] -> [31, 37, 41, 43, 47, 53, 59, 61, 67, 71, 73, 79, 83, 89, 97, 101, 103, 107, 109, 113]\n",
      "[next(p) for _ in range(30)] -> [127, 131, 137, 139, 149, 151, 157, 163, 167, 173, 179, 181, 191, 193, 197, 199, 211, 223, 227, 229, 233, 239, 241, 251, 257, 263, 269, 271, 277, 281]\n"
     ],
     "output_type": "stream"
    }
   ],
   "source": [
    "def prime():\n",
    "    \"\"\"\n",
    "    Infinite generator of simple numbers\n",
    "    \"\"\"\n",
    "    \n",
    "    i = 1\n",
    "    while True:\n",
    "        i += 1\n",
    "    \n",
    "        if i > 3 and i % 2 == 0:\n",
    "            continue\n",
    "        \n",
    "        k = 0\n",
    "        for j in range(3, i // 2, 2):\n",
    "            if i % j == 0:\n",
    "                k = 1\n",
    "                break\n",
    "        if k:\n",
    "            continue\n",
    "        \n",
    "        yield i\n",
    "      \n",
    "\n",
    "print(f\"Function {prime.__name__}{prime.__doc__}\")\n",
    "p = prime()\n",
    "print(\"p = prime()\")\n",
    "print(f\"[next(p) for _ in range(10)] -> {[next(p) for _ in range(10)]}\")\n",
    "print(f\"[next(p) for _ in range(20)] -> {[next(p) for _ in range(20)]}\")\n",
    "print(f\"[next(p) for _ in range(30)] -> {[next(p) for _ in range(30)]}\")"
   ]
  },
  {
   "cell_type": "markdown",
   "metadata": {
    "colab_type": "text",
    "id": "VkExDUak-kDD"
   },
   "source": [
    "**Задача 9.** Реализуйте функцию принимающую строку с математическим выражением и возвращает результат этого вырожения. Гарантируется, что математическим вырожение корректно. Для простоты будем считать, что вырожение может содержать только следующие символы: ```[0..9]``` - цифры, круглые скобки - ```()```, арифметические операции ```+ - *```. Порядок приоритетов классический с точки зрения математики. \n",
    "\n",
    "**[подсказка]** Перед тем как приступить к решению ознакомтесь с [формой Бэкуса—Наура](https://ru.wikipedia.org/wiki/%D0%A4%D0%BE%D1%80%D0%BC%D0%B0_%D0%91%D1%8D%D0%BA%D1%83%D1%81%D0%B0_%E2%80%94_%D0%9D%D0%B0%D1%83%D1%80%D0%B0). Запишите правила разбора строки в форме Бэкуса—Наура и после этого приступайте к технической реализации. \n",
    "\n",
    "Пример:\n",
    "\n",
    "```calc(s='2+2*2') -> 6```\n",
    "\n",
    "```calc(s='2*2-2*1') -> 2```\n",
    "\n",
    "```calc(s='2*(1+3)+(4+5)') -> 17```\n",
    "\n",
    "Описание формы Бэкуса—Наура [3 бала]\n",
    "\n",
    "Решение [3 бала]\n"
   ]
  },
  {
   "cell_type": "markdown",
   "metadata": {
    "colab_type": "text",
    "id": "YCt3dLEFBB6F"
   },
   "source": [
    "Пример записи формы:\n",
    "\n",
    "``` char ::= <0>|<1>|<2> ```\n",
    "\n",
    "``` operation :: <+>|<->|<*> ```\n",
    "\n",
    "``` digit ::= <1>|<2>|<char>* ```\n"
   ]
  },
  {
   "cell_type": "code",
   "execution_count": 10,
   "metadata": {
    "colab": {
     "base_uri": "https://localhost:8080/",
     "height": 204
    },
    "colab_type": "code",
    "id": "7KG6wvehBCDv",
    "outputId": "23a02bb1-5b42-40f3-828e-120a51c806d9",
    "pycharm": {
     "is_executing": false
    }
   },
   "outputs": [
    {
     "name": "stdout",
     "text": [
      "Function calc\n",
      "    Evaluate math expression\n",
      "    :param s: Expression to evaluate\n",
      "    :type s: str\n",
      "    :return: Result of expression\n",
      "    :rtype: int\n",
      "    \n",
      "calc(2+2*2) -> 6\n",
      "calc(2*2-2*1) -> 2\n",
      "calc(2*(1+3)+(4+5)) -> 17\n",
      "calc(1*2+3-(9+5*(4-5))) -> 1\n"
     ],
     "output_type": "stream"
    }
   ],
   "source": [
    "import re\n",
    "\n",
    "\n",
    "def calc(s: str) -> int:\n",
    "    \"\"\"\n",
    "    Evaluate math expression\n",
    "    :param s: Expression to evaluate\n",
    "    :type s: str\n",
    "    :return: Result of expression\n",
    "    :rtype: int\n",
    "    \"\"\"\n",
    "    \n",
    "    pattern = re.compile(r'\\d|\\(|\\)|\\+|-|\\*')\n",
    "    return int(eval(s)) if pattern.findall(s) == list(s) else None\n",
    "\n",
    "\n",
    "print(f\"Function {calc.__name__}{calc.__doc__}\")\n",
    "for expression in (\"2+2*2\", \"2*2-2*1\", \"2*(1+3)+(4+5)\", \"1*2+3-(9+5*(4-5))\"):\n",
    "    print(f\"calc({expression}) -> {calc(expression)}\")"
   ]
  },
  {
   "cell_type": "markdown",
   "metadata": {
    "colab_type": "text",
    "id": "KuT-yuq7B4z8"
   },
   "source": [
    "**Задача 10.** Реализуйте класс ```BinaryTree```. [Описание структуры данных](https://ru.wikipedia.org/wiki/%D0%94%D0%B2%D0%BE%D0%B8%D1%87%D0%BD%D0%BE%D0%B5_%D0%B4%D0%B5%D1%80%D0%B5%D0%B2%D0%BE). Требуется реализовать следующий функционал: ```insert, find, __str__```\n",
    "Вид того, как дерево должно отображаться на печати (метод ```__str__```) предлагается придумать самостоятельно. \n",
    "\n",
    "[3 бала]"
   ]
  },
  {
   "cell_type": "code",
   "execution_count": 11,
   "metadata": {
    "colab": {
     "base_uri": "https://localhost:8080/",
     "height": 119
    },
    "colab_type": "code",
    "id": "8vh7CyHFC1XR",
    "outputId": "2f92a0c5-1a0b-48c5-ae08-e50b1da190c7",
    "pycharm": {
     "is_executing": false
    }
   },
   "outputs": [
    {
     "name": "stdout",
     "text": [
      "3, 6, 12, 14, 15\n",
      "False\n",
      "True\n",
      "False\n",
      "True\n",
      "True\n"
     ],
     "output_type": "stream"
    }
   ],
   "source": [
    "class BinaryTree:\n",
    "    \"\"\"Simple binary tree class\"\"\"\n",
    "    \n",
    "    def __init__(self, value: int):\n",
    "        self.value = value\n",
    "        self.left = None\n",
    "        self.right = None\n",
    "    \n",
    "    def insert(self, x: int):\n",
    "        \"\"\"\n",
    "        Insert new value to tree\n",
    "        :param x: New value\n",
    "        :type x: int\n",
    "        \"\"\"\n",
    "        \n",
    "        if self.value:\n",
    "            if x < self.value:\n",
    "                if self.left is None:\n",
    "                    self.left = BinaryTree(x)\n",
    "                else:\n",
    "                    self.left.insert(x)\n",
    "            elif x > self.value:\n",
    "                if self.right is None:\n",
    "                    self.right = BinaryTree(x)\n",
    "                else:\n",
    "                    self.right.insert(x)\n",
    "        else:\n",
    "            self.value = x  \n",
    "    \n",
    "    def find(self, x: int) -> bool:\n",
    "        \"\"\"\n",
    "        Find value in tree\n",
    "        :param x: Value to search\n",
    "        :type x: int\n",
    "        :return: Is value exists in tree\n",
    "        :rtype: bool\n",
    "        \"\"\"\n",
    "    \n",
    "        if x == self.value:\n",
    "            return True\n",
    "        elif x < self.value and self.left is not None:\n",
    "            return self.left.find(x)\n",
    "        elif x > self.value and self.right is not None:\n",
    "            return self.right.find(x)\n",
    "    \n",
    "        return False\n",
    "    \n",
    "    def __str__(self):\n",
    "        \"\"\"\n",
    "        Returns tree as string sequence\n",
    "        \"\"\"\n",
    "        \n",
    "        representation: str = \"\"\n",
    "        \n",
    "        if self.left:\n",
    "            representation += f\"{self.left}, \"\n",
    "            \n",
    "        representation += f\"{self.value}\"\n",
    "        \n",
    "        if self.right:\n",
    "            representation += f\", {self.right}\"\n",
    "            \n",
    "        return representation\n",
    "\n",
    "\n",
    "btree = BinaryTree(12)\n",
    "btree.insert(6)\n",
    "btree.insert(14)\n",
    "btree.insert(3)\n",
    "btree.insert(15)\n",
    "print(btree)\n",
    "print(btree.find(13))\n",
    "print(btree.find(14))\n",
    "print(btree.find(16))\n",
    "print(btree.find(6))\n",
    "print(btree.find(12))"
   ]
  },
  {
   "cell_type": "markdown",
   "metadata": {
    "colab_type": "text",
    "id": "j4i6XbEYusVW"
   },
   "source": [
    "\n",
    "## Часть 2. Работа с библиотеками: numpy"
   ]
  },
  {
   "cell_type": "markdown",
   "metadata": {
    "colab_type": "text",
    "id": "V9s6P84tYvqR"
   },
   "source": [
    "Знакомство с numpy. Перед выполнением заданий ознакомьтесь с [документацией](http://www.numpy.org)\n",
    "\n",
    "Решение каждой задачи подразумевает написание функции на языке Python, а так же примеры работы это функции. \n",
    "При реализации нужно использовать методы из библиотеки. Решения с циклами будут оцененны в 0 балов. \n",
    "\n",
    "Под матрицей в заданиях понимается двумерный [numpy.array](https://docs.scipy.org/doc/numpy/reference/generated/numpy.array.html)\n",
    "\n",
    "Для подключения модуля воспользуйтесь следующей строкой. Используйте стандартное сокращение np."
   ]
  },
  {
   "cell_type": "code",
   "execution_count": 12,
   "metadata": {
    "colab": {},
    "colab_type": "code",
    "id": "SKHjCTQ4YvqR",
    "pycharm": {
     "is_executing": false
    }
   },
   "outputs": [],
   "source": [
    "import numpy as np"
   ]
  },
  {
   "cell_type": "markdown",
   "metadata": {
    "colab_type": "text",
    "id": "9ctZ8iwcYvqV"
   },
   "source": [
    "Пример создания одномерного и двумерного массивов методами numpy "
   ]
  },
  {
   "cell_type": "code",
   "execution_count": 13,
   "metadata": {
    "colab": {
     "base_uri": "https://localhost:8080/",
     "height": 34
    },
    "colab_type": "code",
    "id": "7HosvuzNYvqW",
    "outputId": "31943bb8-8d6d-4686-fba8-6be2b9041545",
    "pycharm": {
     "is_executing": false
    }
   },
   "outputs": [
    {
     "name": "stdout",
     "text": [
      "[1. 2. 3.]\n"
     ],
     "output_type": "stream"
    }
   ],
   "source": [
    "X1d = np.array([1, 2, 3], dtype=np.float64)\n",
    "print(X1d)"
   ]
  },
  {
   "cell_type": "code",
   "execution_count": 14,
   "metadata": {
    "colab": {
     "base_uri": "https://localhost:8080/",
     "height": 51
    },
    "colab_type": "code",
    "id": "2ynImXGAYvqZ",
    "outputId": "26c2ab8f-bf49-46f1-ac41-2f57078f593c",
    "pycharm": {
     "is_executing": false
    }
   },
   "outputs": [
    {
     "name": "stdout",
     "text": [
      "[[1. 2.]\n",
      " [3. 4.]]\n"
     ],
     "output_type": "stream"
    }
   ],
   "source": [
    "X2d = np.array([[1, 2],\n",
    "                [3, 4]], dtype=np.float)\n",
    "print(X2d)"
   ]
  },
  {
   "cell_type": "markdown",
   "metadata": {
    "colab_type": "text",
    "id": "4uT0T_jRYvqb"
   },
   "source": [
    "**Задача 1.** Напишите функцию принимающую на вход 3 массива - ```A```, ```B```, ```C```. Функция должна возвращать **True**  - если они равны и  **False** иначе. Рекомендуется **не** использовать оператор ==. \n",
    "\n",
    "[1 бал]"
   ]
  },
  {
   "cell_type": "code",
   "execution_count": 15,
   "metadata": {
    "colab": {
     "base_uri": "https://localhost:8080/",
     "height": 102
    },
    "colab_type": "code",
    "id": "D7vJB3IdYvqc",
    "outputId": "100e47ad-d8ac-4e57-a0e6-e745c7d8aab3",
    "pycharm": {
     "is_executing": false
    }
   },
   "outputs": [
    {
     "name": "stdout",
     "text": [
      "Function is_equal\n",
      "    Check is lists are equal\n",
      "    :param A: First list\n",
      "    :type A: List[int]\n",
      "    :param B: Second list\n",
      "    :type B: List[int]\n",
      "    :param C: Third list\n",
      "    :type C: List[int]\n",
      "    :return: Result of comparing\n",
      "    :rtype: bool\n",
      "    \n",
      "is_equal([1, 1, 1], [1, 1, 1], [1, 1, 1]) -> True\n",
      "is_equal([2, 1, 1], [1, 2, 1], [1, 1, 2]) -> False\n",
      "is_equal([], [], [None]) -> False\n",
      "is_equal([1, 2, 3], [3, 2, 1], [3, 1, 2]) -> False\n",
      "is_equal([0, None], [None, 0], [0, None]) -> False\n"
     ],
     "output_type": "stream"
    }
   ],
   "source": [
    "def is_equal(A: List[int], B: List[int], C: List[int]) -> bool:\n",
    "    \"\"\"\n",
    "    Check is lists are equal\n",
    "    :param A: First list\n",
    "    :type A: List[int]\n",
    "    :param B: Second list\n",
    "    :type B: List[int]\n",
    "    :param C: Third list\n",
    "    :type C: List[int]\n",
    "    :return: Result of comparing\n",
    "    :rtype: bool\n",
    "    \"\"\"\n",
    "    \n",
    "    return (\n",
    "        np.array_equal(np.array(A), np.array(B)) \n",
    "        and np.array_equal(np.array(A), np.array(C))\n",
    "    )\n",
    "\n",
    "\n",
    "print(f\"Function {is_equal.__name__}{is_equal.__doc__}\")\n",
    "for tuple_ in (\n",
    "    ([1, 1, 1], [1, 1, 1], [1, 1, 1]), \n",
    "    ([2, 1, 1], [1, 2, 1], [1, 1, 2]), \n",
    "    ([], [], [None]), \n",
    "    ([1, 2, 3], [3, 2, 1], [3, 1, 2]), \n",
    "    ([0, None], [None, 0], [0, None])\n",
    "):\n",
    "    print(f\"is_equal{tuple_} -> {is_equal(*tuple_)}\")"
   ]
  },
  {
   "cell_type": "markdown",
   "metadata": {
    "colab_type": "text",
    "id": "WJWh_J2XYvqe"
   },
   "source": [
    " **Задание 2.** Реализуйте функцию, принимающую на вход матрицу ```X``` и некоторое число ```a``` и возвращающую ближайший к числу элемент матрицы.\n",
    "\n",
    "Например, для ```X = np.arange(0,20).reshape((4, 5))``` и ```a = 7.7``` ответом будет 8.\n",
    "\n",
    "[1 бал]"
   ]
  },
  {
   "cell_type": "code",
   "execution_count": 16,
   "metadata": {
    "colab": {
     "base_uri": "https://localhost:8080/",
     "height": 459
    },
    "colab_type": "code",
    "id": "cQFA1ddIYvqf",
    "outputId": "f2990c18-8835-4772-887e-7272de8b8ed9",
    "pycharm": {
     "is_executing": false
    }
   },
   "outputs": [
    {
     "name": "stdout",
     "text": [
      "Function near_val\n",
      "    Find nearest value in list\n",
      "    :param X: List for search\n",
      "    :type X: List[int]\n",
      "    :param a: Value to search\n",
      "    :type a: float\n",
      "    :return: Nearest value\n",
      "    :rtype: int\n",
      "    \n",
      "near_val((array([[ 0,  1,  2,  3,  4],\n",
      "       [ 5,  6,  7,  8,  9],\n",
      "       [10, 11, 12, 13, 14],\n",
      "       [15, 16, 17, 18, 19]]), 7.7)) -> 8\n",
      "near_val((array([[0, 1],\n",
      "       [2, 3]]), 1.1)) -> 1\n",
      "near_val((array([[0, 1, 2, 3, 4],\n",
      "       [5, 6, 7, 8, 9]]), 5)) -> 5\n",
      "near_val((array([[ 0,  1,  2,  3,  4],\n",
      "       [ 5,  6,  7,  8,  9],\n",
      "       [10, 11, 12, 13, 14],\n",
      "       [15, 16, 17, 18, 19],\n",
      "       [20, 21, 22, 23, 24],\n",
      "       [25, 26, 27, 28, 29]]), -5)) -> 0\n",
      "near_val((array([[ 0,  1,  2,  3,  4],\n",
      "       [ 5,  6,  7,  8,  9],\n",
      "       [10, 11, 12, 13, 14]]), 22)) -> 14\n"
     ],
     "output_type": "stream"
    }
   ],
   "source": [
    "def near_val(X: List[int], a: float) -> int:\n",
    "    \"\"\"\n",
    "    Find nearest value in list\n",
    "    :param X: List for search\n",
    "    :type X: List[int]\n",
    "    :param a: Value to search\n",
    "    :type a: float\n",
    "    :return: Nearest value\n",
    "    :rtype: int\n",
    "    \"\"\"\n",
    "    \n",
    "    return np.abs(X-a).argmin()\n",
    "\n",
    "\n",
    "print(f\"Function {near_val.__name__}{near_val.__doc__}\")\n",
    "for data in (\n",
    "    (np.arange(0, 20).reshape((4, 5)), 7.7),\n",
    "    (np.arange(0, 4).reshape((2, 2)), 1.1),\n",
    "    (np.arange(0, 10).reshape((2, 5)), 5),\n",
    "    (np.arange(0, 30).reshape((6, 5)), -5),\n",
    "    (np.arange(0, 15).reshape((3, 5)), 22),\n",
    "):\n",
    "    print(f\"near_val({data}) -> {near_val(*data)}\")"
   ]
  },
  {
   "cell_type": "markdown",
   "metadata": {
    "colab_type": "text",
    "id": "ah3HtvnBYvqh"
   },
   "source": [
    "**Задача 3.** Напишите функцию принимающую вектор строку и возвращающую вектор столбец. В этом задании **запрещается** пользоваться операцией транспонирования и рекомедуется воспользоваться методом [reshape](https://docs.scipy.org/doc/numpy-1.13.0/reference/generated/numpy.reshape.html).\n",
    "\n",
    "[1 бал]"
   ]
  },
  {
   "cell_type": "code",
   "execution_count": 17,
   "metadata": {
    "colab": {
     "base_uri": "https://localhost:8080/",
     "height": 901
    },
    "colab_type": "code",
    "id": "KmNK_1dAYvqi",
    "outputId": "db7e9ab4-ffac-4072-e21b-09d53a0bbcb9",
    "pycharm": {
     "is_executing": false
    }
   },
   "outputs": [
    {
     "name": "stdout",
     "text": [
      "Function near_val\n",
      "    Find nearest value in list\n",
      "    :param X: List for search\n",
      "    :type X: List[int]\n",
      "    :param a: Value to search\n",
      "    :type a: float\n",
      "    :return: Nearest value\n",
      "    :rtype: int\n",
      "    \n",
      "rot_vec([0]) -> [[0]]\n",
      "rot_vec([0 1 2 3 4]) -> [[0]\n",
      " [1]\n",
      " [2]\n",
      " [3]\n",
      " [4]]\n",
      "rot_vec([ 0  1  2  3  4  5  6  7  8  9 10 11 12 13 14]) -> [[ 0]\n",
      " [ 1]\n",
      " [ 2]\n",
      " [ 3]\n",
      " [ 4]\n",
      " [ 5]\n",
      " [ 6]\n",
      " [ 7]\n",
      " [ 8]\n",
      " [ 9]\n",
      " [10]\n",
      " [11]\n",
      " [12]\n",
      " [13]\n",
      " [14]]\n",
      "rot_vec([ 0  1  2  3  4  5  6  7  8  9 10 11 12 13 14 15 16 17 18 19]) -> [[ 0]\n",
      " [ 1]\n",
      " [ 2]\n",
      " [ 3]\n",
      " [ 4]\n",
      " [ 5]\n",
      " [ 6]\n",
      " [ 7]\n",
      " [ 8]\n",
      " [ 9]\n",
      " [10]\n",
      " [11]\n",
      " [12]\n",
      " [13]\n",
      " [14]\n",
      " [15]\n",
      " [16]\n",
      " [17]\n",
      " [18]\n",
      " [19]]\n",
      "rot_vec([0 1 2]) -> [[0]\n",
      " [1]\n",
      " [2]]\n"
     ],
     "output_type": "stream"
    }
   ],
   "source": [
    "def rot_vec(x: np.array) -> np.array:\n",
    "    \"\"\"\n",
    "    Transform vector row to vector column\n",
    "    :param x: Vector row\n",
    "    :type x: np.array\n",
    "    :return: Vector column\n",
    "    :rtype: np.array\n",
    "    \"\"\"\n",
    "    \n",
    "    return x.reshape(-1, 1)\n",
    "\n",
    "\n",
    "print(f\"Function {near_val.__name__}{near_val.__doc__}\")\n",
    "for vector in (\n",
    "    np.arange(0, 1),\n",
    "    np.arange(0, 5),\n",
    "    np.arange(0, 15),\n",
    "    np.arange(0, 20),\n",
    "    np.arange(0, 3),\n",
    "):\n",
    "    print(f\"rot_vec({vector}) -> {rot_vec(vector)}\")"
   ]
  },
  {
   "cell_type": "markdown",
   "metadata": {
    "colab_type": "text",
    "id": "DvEO9KA-Yvql"
   },
   "source": [
    "**Задача 4.** Напишите функцию принимающую на вход двумерный массив, а возвращающую массив с диагональными элементами этой матрицы. Пример: ```[[1, 2], [3, 4]] -> [1 4]```\n",
    "\n",
    "[1 бал]"
   ]
  },
  {
   "cell_type": "code",
   "execution_count": 18,
   "metadata": {
    "colab": {
     "base_uri": "https://localhost:8080/",
     "height": 187
    },
    "colab_type": "code",
    "id": "C70v40TaYvql",
    "outputId": "6157c161-4945-4222-dc87-70be02a3fc96",
    "pycharm": {
     "is_executing": false
    }
   },
   "outputs": [
    {
     "name": "stdout",
     "text": [
      "Function get_diag\n",
      "    Get diagonal of matrix\n",
      "    :param X: Matrix\n",
      "    :type X: List[int]\n",
      "    :return: Diagonal of matrix\n",
      "    :rtype: np.array\n",
      "    \n",
      "get_diag([[1, 2], [3, 4]]) -> [1 4]\n",
      "get_diag([[1, 2, 3, 4], [5, 6, 7, 8], [9, 10, 11, 12], [13, 14, 15, 16]]) -> [ 1  6 11 16]\n",
      "get_diag([[1]]) -> [1]\n"
     ],
     "output_type": "stream"
    }
   ],
   "source": [
    "def get_diag(X: List[int]) -> np.array:\n",
    "    \"\"\"\n",
    "    Get diagonal of matrix\n",
    "    :param X: Matrix\n",
    "    :type X: List[int]\n",
    "    :return: Diagonal of matrix\n",
    "    :rtype: np.array\n",
    "    \"\"\"\n",
    "    \n",
    "    return np.array(X).diagonal()\n",
    "\n",
    "\n",
    "print(f\"Function {get_diag.__name__}{get_diag.__doc__}\")\n",
    "for matrix in (\n",
    "    [[1, 2], [3, 4]],\n",
    "    [[1, 2, 3, 4], [5, 6, 7, 8], [9, 10, 11, 12], [13, 14, 15, 16]],\n",
    "    [[1]]   \n",
    "):\n",
    "    print(f\"get_diag({matrix}) -> {get_diag(matrix)}\")"
   ]
  },
  {
   "cell_type": "markdown",
   "metadata": {
    "colab_type": "text",
    "id": "6Bp2IKxSYvqn"
   },
   "source": [
    "**Задача 5.** Найдите среденее значение всех не нулевых элементов стоящих на главной диагонали матрицы. \n",
    "\n",
    "[1 бал]"
   ]
  },
  {
   "cell_type": "code",
   "execution_count": 19,
   "metadata": {
    "colab": {
     "base_uri": "https://localhost:8080/",
     "height": 204
    },
    "colab_type": "code",
    "id": "pl1MgfQOYvqo",
    "outputId": "31161bb8-40da-4dec-b1dd-1c8cac149305",
    "pycharm": {
     "is_executing": false
    }
   },
   "outputs": [
    {
     "name": "stdout",
     "text": [
      "Function mean_diag\n",
      "    Get mean of nonzero elements in matrix' diagonal\n",
      "    :param X: Matrix\n",
      "    :type X: List[list]\n",
      "    :return: Mean\n",
      "    :rtype: float\n",
      "    \n",
      "mean_diag([[1, 2], [3, 4]]) -> 2.5\n",
      "mean_diag([[1, 2], [3, 0]]) -> 1.0\n",
      "mean_diag([[1, 2, 3, 4], [5, 6, 7, 8], [9, 10, 11, 12], [13, 14, 15, 16]]) -> 8.5\n",
      "mean_diag([[0, 2, 3, 4], [5, 6, 7, 8], [9, 10, 0, 12], [13, 14, 15, 16]]) -> 11.0\n",
      "mean_diag([[1]]) -> 1.0\n"
     ],
     "output_type": "stream"
    }
   ],
   "source": [
    "def mean_diag(X: List[list]) -> float:\n",
    "    \"\"\"\n",
    "    Get mean of nonzero elements in matrix' diagonal\n",
    "    :param X: Matrix\n",
    "    :type X: List[list]\n",
    "    :return: Mean\n",
    "    :rtype: float\n",
    "    \"\"\"\n",
    "    \n",
    "    x = np.array(X).diagonal()\n",
    "    return x[np.where(x != 0)].mean()\n",
    "\n",
    "\n",
    "print(f\"Function {mean_diag.__name__}{mean_diag.__doc__}\")\n",
    "for matrix in (\n",
    "    [[1, 2], [3, 4]],\n",
    "    [[1, 2], [3, 0]],\n",
    "    [[1, 2, 3, 4], [5, 6, 7, 8], [9, 10, 11, 12], [13, 14, 15, 16]],\n",
    "    [[0, 2, 3, 4], [5, 6, 7, 8], [9, 10, 0, 12], [13, 14, 15, 16]],\n",
    "    [[1]]  \n",
    "):\n",
    "    print(f\"mean_diag({matrix}) -> {mean_diag(matrix)}\")"
   ]
  },
  {
   "cell_type": "markdown",
   "metadata": {
    "colab_type": "text",
    "id": "rzqY1wF5Yvqq"
   },
   "source": [
    "**Задача 6.** Напишите функцию принимающую на вход двумерный массив, а возвращающую массив элементов находящихся на второстепенной диагонали. Пример: ```[[1, 2], [3, 4]] -> [2 3]```\n",
    "\n",
    "[1 бал]"
   ]
  },
  {
   "cell_type": "code",
   "execution_count": 20,
   "metadata": {
    "colab": {
     "base_uri": "https://localhost:8080/",
     "height": 187
    },
    "colab_type": "code",
    "id": "f9yPgh2lYvqq",
    "outputId": "e41cb7e7-2e5f-46cc-bf08-06d9c7a2af23",
    "pycharm": {
     "is_executing": false
    }
   },
   "outputs": [
    {
     "name": "stdout",
     "text": [
      "Function sec_diag\n",
      "    Get secondary diagonal\n",
      "    :param X: Matrix\n",
      "    :type X: List[list]\n",
      "    :return: Secondary diagonal\n",
      "    :rtype: np.array\n",
      "    \n",
      "sec_diag([[1, 2], [3, 4]]) -> [2 3]\n",
      "sec_diag([[1, 2, 3, 4], [5, 6, 7, 8], [9, 10, 11, 12], [13, 14, 15, 16]]) -> [ 4  7 10 13]\n",
      "sec_diag([[1]]) -> [1]\n"
     ],
     "output_type": "stream"
    }
   ],
   "source": [
    "def sec_diag(X: List[list]) -> np.array:\n",
    "    \"\"\"\n",
    "    Get secondary diagonal\n",
    "    :param X: Matrix\n",
    "    :type X: List[list]\n",
    "    :return: Secondary diagonal\n",
    "    :rtype: np.array\n",
    "    \"\"\"\n",
    "    \n",
    "    return np.fliplr(X).diagonal()\n",
    "\n",
    "\n",
    "print(f\"Function {sec_diag.__name__}{sec_diag.__doc__}\")\n",
    "for matrix in (\n",
    "    [[1, 2], [3, 4]],\n",
    "    [[1, 2, 3, 4], [5, 6, 7, 8], [9, 10, 11, 12], [13, 14, 15, 16]],\n",
    "    [[1]]   \n",
    "):\n",
    "    print(f\"sec_diag({matrix}) -> {sec_diag(matrix)}\")"
   ]
  },
  {
   "cell_type": "markdown",
   "metadata": {
    "colab_type": "text",
    "id": "SuuZK-5DYvqt"
   },
   "source": [
    "**Задача 7.** Функци принимает двумерный квадратный массив. Найдите [след матрицы](https://ru.wikipedia.org/wiki/След_матрицы). Используйте **только** функции из numpy!\n",
    "\n",
    "[1 бал]"
   ]
  },
  {
   "cell_type": "code",
   "execution_count": 21,
   "metadata": {
    "colab": {
     "base_uri": "https://localhost:8080/",
     "height": 187
    },
    "colab_type": "code",
    "id": "JrnCZM_-Yvqu",
    "outputId": "3fb854a9-3b0d-46c5-fcc9-05ceb171192b",
    "pycharm": {
     "is_executing": false
    }
   },
   "outputs": [
    {
     "name": "stdout",
     "text": [
      "Function tr\n",
      "    Get trace of matrix\n",
      "    :param X: Matrix\n",
      "    :type X: List[list]\n",
      "    \n",
      "tr([[1, 2], [3, 4]]) -> 5\n",
      "tr([[1, 2, 3, 4], [5, 6, 7, 8], [9, 10, 11, 12], [13, 14, 15, 16]]) -> 34\n",
      "tr([[1]]) -> 1\n"
     ],
     "output_type": "stream"
    }
   ],
   "source": [
    "def tr(X: List[list]):\n",
    "    \"\"\"\n",
    "    Get trace of matrix\n",
    "    :param X: Matrix\n",
    "    :type X: List[list]\n",
    "    \"\"\"\n",
    "    \n",
    "    return np.trace(X)\n",
    "\n",
    "\n",
    "print(f\"Function {tr.__name__}{tr.__doc__}\")\n",
    "for matrix in (\n",
    "    [[1, 2], [3, 4]],\n",
    "    [[1, 2, 3, 4], [5, 6, 7, 8], [9, 10, 11, 12], [13, 14, 15, 16]],\n",
    "    [[1]]   \n",
    "):\n",
    "    print(f\"tr({matrix}) -> {tr(matrix)}\")"
   ]
  },
  {
   "cell_type": "markdown",
   "metadata": {
    "colab_type": "text",
    "id": "zifxFrsDYvqw"
   },
   "source": [
    "**Задача 8.** На вход вы получаете массив чисел. Функция должна вернуть матрицу состоящую из элементов данного массива, размером максимально приближенным к квадрату. Возможно Вам понадобятся циклы.  Неоднозначность в условие предлагается разрешить самостоятельно любым, удобным Вам способом. \n",
    "\n",
    "Пример ```[1, 2, 3, 4] -> [[1, 2], [3, 4]]```\n",
    "\n",
    "[1 бал]"
   ]
  },
  {
   "cell_type": "code",
   "execution_count": 22,
   "metadata": {
    "colab": {
     "base_uri": "https://localhost:8080/",
     "height": 887
    },
    "colab_type": "code",
    "id": "lujJYLwXYvqw",
    "outputId": "91136116-709b-47c8-8296-eda6404bb9b7",
    "pycharm": {
     "is_executing": false
    }
   },
   "outputs": [
    {
     "name": "stdout",
     "text": [
      "Function make_sq\n",
      "    Create nearly quad from vector row\n",
      "    :param A: Vector row\n",
      "    :type A: List[int]\n",
      "    :return: Matrix\n",
      "    :rtype: List[list]\n",
      "    \n",
      "make_sq([1]) -> [[1]]\n",
      "make_sq([1, 2]) -> [[1]\n",
      " [2]]\n",
      "make_sq([1, 2, 3]) -> [[1 2 3]]\n",
      "make_sq([1, 2, 3, 4]) -> [[1 2]\n",
      " [3 4]]\n",
      "make_sq([1, 2, 3, 4, 5]) -> [[1 2 3 4 5]]\n",
      "make_sq([1, 2, 3, 4, 5, 6]) -> [[1 2]\n",
      " [3 4]\n",
      " [5 6]]\n",
      "make_sq([1, 2, 3, 4, 5, 6, 7]) -> [[1 2 3 4 5 6 7]]\n",
      "make_sq([1, 2, 3, 4, 5, 6, 7, 8]) -> [[1 2 3 4]\n",
      " [5 6 7 8]]\n",
      "make_sq([1, 2, 3, 4, 5, 6, 7, 8, 9]) -> [[1 2 3]\n",
      " [4 5 6]\n",
      " [7 8 9]]\n",
      "make_sq([1, 2, 3, 4, 5, 6, 7, 8, 9, 10]) -> [[ 1  2  3  4  5]\n",
      " [ 6  7  8  9 10]]\n",
      "make_sq([1, 2, 3, 4, 5, 6, 7, 8, 9, 10, 11]) -> [[ 1  2  3  4  5  6  7  8  9 10 11]]\n",
      "make_sq([1, 2, 3, 4, 5, 6, 7, 8, 9, 10, 11, 12]) -> [[ 1  2  3]\n",
      " [ 4  5  6]\n",
      " [ 7  8  9]\n",
      " [10 11 12]]\n",
      "make_sq([1, 2, 3, 4, 5, 6, 7, 8, 9, 10, 11, 12, 13]) -> [[ 1  2  3  4  5  6  7  8  9 10 11 12 13]]\n",
      "make_sq([1, 2, 3, 4, 5, 6, 7, 8, 9, 10, 11, 12, 13, 14]) -> [[ 1  2  3  4  5  6  7]\n",
      " [ 8  9 10 11 12 13 14]]\n",
      "make_sq([1, 2, 3, 4, 5, 6, 7, 8, 9, 10, 11, 12, 13, 14, 15]) -> [[ 1  2  3  4  5]\n",
      " [ 6  7  8  9 10]\n",
      " [11 12 13 14 15]]\n",
      "make_sq([1, 2, 3, 4, 5, 6, 7, 8, 9, 10, 11, 12, 13, 14, 15, 16]) -> [[ 1  2  3  4]\n",
      " [ 5  6  7  8]\n",
      " [ 9 10 11 12]\n",
      " [13 14 15 16]]\n",
      "make_sq([1, 2, 3, 4, 5, 6, 7, 8, 9, 10, 11, 12, 13, 14, 15, 16, 17]) -> [[ 1  2  3  4  5  6  7  8  9 10 11 12 13 14 15 16 17]]\n",
      "make_sq([1, 2, 3, 4, 5, 6, 7, 8, 9, 10, 11, 12, 13, 14, 15, 16, 17, 18]) -> [[ 1  2  3  4  5  6]\n",
      " [ 7  8  9 10 11 12]\n",
      " [13 14 15 16 17 18]]\n",
      "make_sq([1, 2, 3, 4, 5, 6, 7, 8, 9, 10, 11, 12, 13, 14, 15, 16, 17, 18, 19]) -> [[ 1  2  3  4  5  6  7  8  9 10 11 12 13 14 15 16 17 18 19]]\n",
      "make_sq([1, 2, 3, 4, 5, 6, 7, 8, 9, 10, 11, 12, 13, 14, 15, 16, 17, 18, 19, 20]) -> [[ 1  2  3  4]\n",
      " [ 5  6  7  8]\n",
      " [ 9 10 11 12]\n",
      " [13 14 15 16]\n",
      " [17 18 19 20]]\n"
     ],
     "output_type": "stream"
    }
   ],
   "source": [
    "import math\n",
    "\n",
    "\n",
    "def make_sq(A: List[int]) -> List[list]:\n",
    "    \"\"\"\n",
    "    Create nearly quad from vector row\n",
    "    :param A: Vector row\n",
    "    :type A: List[int]\n",
    "    :return: Matrix\n",
    "    :rtype: List[list]\n",
    "    \"\"\"\n",
    "    \n",
    "    length: int = len(A)\n",
    "    n: int = math.ceil(length ** 0.5)\n",
    "    m: float = length / n\n",
    "    \n",
    "    while not m.is_integer():\n",
    "        n -= 1\n",
    "        m = length / n\n",
    "    \n",
    "    return np.array(A).reshape((int(n), int(m)))\n",
    "\n",
    "\n",
    "print(f\"Function {make_sq.__name__}{make_sq.__doc__}\")\n",
    "for i in range(1, 21):\n",
    "    range_ = list(range(1, i + 1))\n",
    "    print(f\"make_sq({range_}) -> {make_sq(range_)}\")"
   ]
  },
  {
   "cell_type": "markdown",
   "metadata": {
    "colab_type": "text",
    "id": "TwmG6LxRYvqz"
   },
   "source": [
    "**Задача 9.** Реализуйте функцию, принимающую на вход матрицу ```X```. Удалите из неё все дубликаты строчек. \n",
    "\n",
    "[1 бал]"
   ]
  },
  {
   "cell_type": "markdown",
   "metadata": {
    "colab_type": "text",
    "id": "eo7hutlPYvqz"
   },
   "source": [
    "Пример ```[[1 0], [0 1], [1 0]] -> [[1 0], [0 1]] ```"
   ]
  },
  {
   "cell_type": "code",
   "execution_count": 23,
   "metadata": {
    "colab": {
     "base_uri": "https://localhost:8080/",
     "height": 221
    },
    "colab_type": "code",
    "id": "eL8HcWlDYvqz",
    "outputId": "1ae84845-d610-43ad-bcd4-ce2e13dd7aa9",
    "pycharm": {
     "is_executing": false
    }
   },
   "outputs": [
    {
     "name": "stdout",
     "text": [
      "Function del_dublicates\n",
      "    Delete duplicate rows in matrix\n",
      "    :param X: Matrix\n",
      "    :type X: List[list]\n",
      "    \n",
      "del_dublicates([[1, 2], [3, 4], [1, 2], [1, 2], [1, 2]]) -> [[1 2]\n",
      " [3 4]]\n",
      "del_dublicates([[1, 0], [0, 1], [1, 0]]) -> [[0 1]\n",
      " [1 0]]\n",
      "del_dublicates([[1], [1]]) -> [[1]]\n"
     ],
     "output_type": "stream"
    }
   ],
   "source": [
    "def del_dublicates(X: List[list]):\n",
    "    \"\"\"\n",
    "    Delete duplicate rows in matrix\n",
    "    :param X: Matrix\n",
    "    :type X: List[list]\n",
    "    \"\"\"\n",
    "\n",
    "    return np.unique(np.array(X), axis=0)\n",
    "\n",
    "\n",
    "print(f\"Function {del_dublicates.__name__}{del_dublicates.__doc__}\")\n",
    "for matrix in (\n",
    "    [[1, 2], [3, 4], [1, 2], [1, 2], [1, 2]],\n",
    "    [[1, 0], [0, 1], [1, 0]],\n",
    "    [[1], [1]]   \n",
    "):\n",
    "    print(f\"del_dublicates({matrix}) -> {del_dublicates(matrix)}\")"
   ]
  },
  {
   "cell_type": "markdown",
   "metadata": {
    "colab_type": "text",
    "id": "GTesgbQNYvq2"
   },
   "source": [
    "**Задача 10.** Реализуйте функцию, принимающую на вход вектор ```X```.  Вставьте между всеми числами число 42.0\n",
    "\n",
    "Пример ```[1, 2, 3, 4, 5] -> [1, 42, 2, 42, 3, 42, 4, 42, 5]```\n",
    "\n",
    "[1 бал]"
   ]
  },
  {
   "cell_type": "code",
   "execution_count": 24,
   "metadata": {
    "colab": {
     "base_uri": "https://localhost:8080/",
     "height": 187
    },
    "colab_type": "code",
    "id": "dEYwVDjfYvq2",
    "outputId": "e7b4a0cd-d895-4c3b-f369-80d9a75c0652",
    "pycharm": {
     "is_executing": false
    }
   },
   "outputs": [
    {
     "name": "stdout",
     "text": [
      "Function insert_42\n",
      "    Insert 42 between elements of vector row\n",
      "    :param X: Vector row\n",
      "    :type: List[int]\n",
      "    :return: Result vector row\n",
      "    :rtype: np.ndarray\n",
      "    \n",
      "insert_42([1, 2, 3, 4, 5, 6, 7, 8, 9, 0]) -> [ 1 42  2 42  3 42  4 42  5 42  6 42  7 42  8 42  9 42  0]\n",
      "insert_42([1, 0, 0]) -> [ 1 42  0 42  0]\n",
      "insert_42([1, 2, 3, 4, 5]) -> [ 1 42  2 42  3 42  4 42  5]\n"
     ],
     "output_type": "stream"
    }
   ],
   "source": [
    "def insert_42(X: List[int]) -> np.ndarray:\n",
    "    \"\"\"\n",
    "    Insert 42 between elements of vector row\n",
    "    :param X: Vector row\n",
    "    :type: List[int]\n",
    "    :return: Result vector row\n",
    "    :rtype: np.ndarray\n",
    "    \"\"\"\n",
    "    \n",
    "    return np.insert(np.array(X), range(1, len(X)), 42.0)\n",
    "\n",
    "\n",
    "print(f\"Function {insert_42.__name__}{insert_42.__doc__}\")\n",
    "for matrix in (\n",
    "    [1, 2, 3, 4, 5, 6, 7, 8, 9, 0],\n",
    "    [1, 0, 0],\n",
    "    [1, 2, 3, 4, 5]   \n",
    "):\n",
    "    print(f\"insert_42({matrix}) -> {insert_42(matrix)}\")"
   ]
  },
  {
   "cell_type": "markdown",
   "metadata": {
    "colab_type": "text",
    "id": "mn1IQcHBGRIz"
   },
   "source": [
    "## Часть 3. Работа с библиотеками: pandas"
   ]
  },
  {
   "cell_type": "markdown",
   "metadata": {
    "colab_type": "text",
    "id": "6NqFqk-nGVBD"
   },
   "source": [
    "Знакомство с pandas. Перед выполнением заданий ознакомьтесь с [документацией](https://pandas.pydata.org/)\n",
    "\n",
    "В данном разделе Вам предлагается следующий вид заданий. Задача представляет собой вопрос к датасету [titanic.csv](https://gist.github.com/michhar/2dfd2de0d4f8727f873422c5d959fff5). Решение - это код на python с использованием библиотеки pandas и собственно ответ на вопрос(число/строка/массив/и т. д.)\n",
    "\n",
    "Перед выполнением этого блока скачайте себе файл датасета по [ссылке](https://gist.github.com/michhar/2dfd2de0d4f8727f873422c5d959fff5). Добавте его в рабочу папку вашего Colab-а(слева значек папочки). Или воспользуйтесь командой [!wget](https://linuxize.com/post/wget-command-examples/) в одной из ячеек колаба. "
   ]
  },
  {
   "cell_type": "code",
   "execution_count": 25,
   "metadata": {
    "colab": {},
    "colab_type": "code",
    "id": "MG_MzAHkH3x3",
    "pycharm": {
     "is_executing": false
    }
   },
   "outputs": [],
   "source": [
    "import pandas as pd\n",
    "\n",
    "# Загрузите датасет. Ознакомьтесь с тем как это правильно сделать, внимательно прочитав документацию по функции  pd.read_csv.\n",
    "# Обратите особое внимание на разделители в датасете. \n",
    "\n",
    "dataset = pd.read_csv(\"https://gist.githubusercontent.com/michhar/\"\n",
    "                      \"2dfd2de0d4f8727f873422c5d959fff5/raw/\"\n",
    "                      \"23da2b7680e0c9e1fd831f05f53de3958f0d75fe/titanic.csv\")"
   ]
  },
  {
   "cell_type": "markdown",
   "metadata": {
    "colab_type": "text",
    "id": "6wOIPuYlInfr"
   },
   "source": [
    "**Задача 1.** Кого больше - мужчин или женщин?\n",
    "\n",
    "[1 бал]"
   ]
  },
  {
   "cell_type": "code",
   "execution_count": 26,
   "metadata": {
    "colab": {
     "base_uri": "https://localhost:8080/",
     "height": 34
    },
    "colab_type": "code",
    "id": "-K1relNRIxxy",
    "outputId": "62245493-9be3-4552-95d3-3df4fd1a6e13",
    "pycharm": {
     "is_executing": false
    }
   },
   "outputs": [
    {
     "data": {
      "text/plain": "'male'"
     },
     "metadata": {},
     "output_type": "execute_result",
     "execution_count": 26
    }
   ],
   "source": [
    "dataset[\"Sex\"].value_counts().idxmax()"
   ]
  },
  {
   "cell_type": "markdown",
   "metadata": {
    "colab_type": "text",
    "id": "yj8ELFuzI0kh"
   },
   "source": [
    "**Задача 2.** Выведите следующие характеристики пассажиров: средний возраст пассажиров, средний возраст мужчин, средний возраст женщин, максимальный и минимальный возраст среди мужчин и женщин.\n",
    "\n",
    "[1 бал]"
   ]
  },
  {
   "cell_type": "code",
   "execution_count": 27,
   "metadata": {
    "colab": {
     "base_uri": "https://localhost:8080/",
     "height": 136
    },
    "colab_type": "code",
    "id": "vQqNJ1aWJR46",
    "outputId": "415cb534-1aee-4239-ab85-22979d2428df",
    "pycharm": {
     "is_executing": false
    }
   },
   "outputs": [
    {
     "data": {
      "text/plain": "(28.141507936507935,\n 30.326962025316455,\n 24.46808510638298,\n 71.0,\n 58.0,\n 0.83,\n 2.0)"
     },
     "metadata": {},
     "output_type": "execute_result",
     "execution_count": 27
    }
   ],
   "source": [
    "(\n",
    "    dataset[\"Age\"].mean(),\n",
    "    dataset[dataset[\"Sex\"]==\"male\"][\"Age\"].mean(),\n",
    "    dataset[dataset[\"Sex\"]==\"female\"][\"Age\"].mean(),\n",
    "    dataset[dataset[\"Sex\"]==\"male\"][\"Age\"].max(),\n",
    "    dataset[dataset[\"Sex\"]==\"female\"][\"Age\"].max(),\n",
    "    dataset[dataset[\"Sex\"]==\"male\"][\"Age\"].min(),\n",
    "    dataset[dataset[\"Sex\"]==\"female\"][\"Age\"].min(),\n",
    ")"
   ]
  },
  {
   "cell_type": "markdown",
   "metadata": {
    "colab_type": "text",
    "id": "qodsYz5XJUeb"
   },
   "source": [
    "**Задача 3.** Какой процент выживаемости среди мужчин/женщин? \n",
    "\n",
    "[1 бал]"
   ]
  },
  {
   "cell_type": "code",
   "execution_count": 28,
   "metadata": {
    "colab": {
     "base_uri": "https://localhost:8080/",
     "height": 34
    },
    "colab_type": "code",
    "id": "9lmrUgzqJgw5",
    "outputId": "ae3374be-d6f1-4d17-dd43-2210ab69f231",
    "pycharm": {
     "is_executing": false
    }
   },
   "outputs": [
    {
     "data": {
      "text/plain": "(14.000000000000002, 71.42857142857143)"
     },
     "metadata": {},
     "output_type": "execute_result",
     "execution_count": 28
    }
   ],
   "source": [
    "(\n",
    "    dataset[\n",
    "        dataset[\"Sex\"].eq(\"male\") & dataset[\"Survived\"].eq(1)\n",
    "    ][\"Survived\"].count()\n",
    "    /\n",
    "    dataset[dataset[\"Sex\"].eq(\"male\")][\"Survived\"].count() * 100,\n",
    "    dataset[\n",
    "        dataset[\"Sex\"].eq(\"female\") & dataset[\"Survived\"].eq(1)\n",
    "    ][\"Survived\"].count()\n",
    "    /\n",
    "    dataset[dataset[\"Sex\"].eq(\"female\")][\"Survived\"].count() * 100\n",
    ")"
   ]
  },
  {
   "cell_type": "markdown",
   "metadata": {
    "colab_type": "text",
    "id": "ElaQcixIJoJ2"
   },
   "source": [
    "**Задача 4.** Сколько пропущеных значений в датасете по каждой из переменных? \n",
    "\n",
    "[1 бал]"
   ]
  },
  {
   "cell_type": "code",
   "execution_count": 29,
   "metadata": {
    "colab": {
     "base_uri": "https://localhost:8080/",
     "height": 85
    },
    "colab_type": "code",
    "id": "CVQIZcwQJz1w",
    "outputId": "05933b40-80e6-4003-cabd-2bff3c0fb61b",
    "pycharm": {
     "is_executing": false
    }
   },
   "outputs": [
    {
     "data": {
      "text/plain": "Age          30\nCabin       125\nEmbarked      1\ndtype: int64"
     },
     "metadata": {},
     "output_type": "execute_result",
     "execution_count": 29
    }
   ],
   "source": [
    "dataset[dataset.columns[dataset.isnull().any()]].isnull().sum()"
   ]
  },
  {
   "cell_type": "markdown",
   "metadata": {
    "colab_type": "text",
    "id": "uU5OQS1eJ9nh"
   },
   "source": [
    "**Задача 5.** Назовите самое популярное **женское** имя на корабле.\n",
    "\n",
    "[2 бала]"
   ]
  },
  {
   "cell_type": "code",
   "execution_count": 30,
   "metadata": {
    "colab": {
     "base_uri": "https://localhost:8080/",
     "height": 34
    },
    "colab_type": "code",
    "id": "AG_fxLnqJ2Bj",
    "outputId": "31226152-7961-485c-f743-c0807f02ce87",
    "pycharm": {
     "is_executing": false
    }
   },
   "outputs": [
    {
     "data": {
      "text/plain": "'Vander Planke'"
     },
     "metadata": {},
     "output_type": "execute_result",
     "execution_count": 30
    }
   ],
   "source": [
    "dataset[\n",
    "    dataset[\"Sex\"]==\"female\"\n",
    "][\"Name\"].str.split(pat=\",\", expand=True)[0].value_counts().idxmax()"
   ]
  },
  {
   "cell_type": "markdown",
   "metadata": {
    "colab_type": "text",
    "id": "DNhIzYj_Ktrp"
   },
   "source": [
    "## Часть 4. Работа с библиотеками: matplotlib"
   ]
  },
  {
   "cell_type": "markdown",
   "metadata": {
    "colab_type": "text",
    "id": "qHEaJjUQKz5x"
   },
   "source": [
    "Знакомство с matplotlib. Перед выполнением заданий ознакомьтесь с [документацией](https://matplotlib.org/)\n",
    "\n",
    "В данном разделе Вам предлагается нарисовать красивыми 2 графика. Красивым график можно считать, если он является самодостаточным(обладает подписями всех осей, легендой, заданной системой координат), эстетичным(смотришь и глаза радуются😄), правдивым. Вам предложенно 2 базовых графика - пересуйте их! \n",
    "\n",
    "В этом блоке большое поле для фантазий!  "
   ]
  },
  {
   "cell_type": "markdown",
   "metadata": {
    "colab_type": "text",
    "id": "hZEKkaRaK0Cp"
   },
   "source": [
    "**Задание 1.** На первом графике изобразите 3 функции: \n",
    "\n",
    "$f_{1}(x) =  \\frac{sin(x)}{x}$\n",
    "\n",
    "$f_{2}(x) =  \\frac{cos(x)}{x^2 + 1}$\n",
    "\n",
    "$f_{3}(x) =  cos^2(x) - \\frac{sin(x)}{2}$\n",
    "\n",
    "[2 бала]"
   ]
  },
  {
   "cell_type": "code",
   "execution_count": 31,
   "metadata": {
    "colab": {},
    "colab_type": "code",
    "id": "vsrR02KvL7-B",
    "pycharm": {
     "is_executing": false
    }
   },
   "outputs": [],
   "source": [
    "import matplotlib.pyplot as plt\n",
    "\n",
    "x = np.arange(-10, 10, 0.1)\n",
    "\n",
    "y1 = np.sin(x) / x\n",
    "y2 = np.cos(x) / (x ** 2 + 1)\n",
    "y3 = np.cos(x) ** 2 - np.sin(x) / 2.\n"
   ]
  },
  {
   "cell_type": "code",
   "execution_count": 32,
   "metadata": {
    "colab": {
     "base_uri": "https://localhost:8080/",
     "height": 538
    },
    "colab_type": "code",
    "id": "Sm4I22jHMfot",
    "outputId": "dbde02ac-7699-4a1b-97d2-93c534c55073",
    "pycharm": {
     "is_executing": false
    }
   },
   "outputs": [
    {
     "data": {
      "text/plain": "<Figure size 1800x720 with 1 Axes>",
      "image/png": "[encoded data removed]"
     },
     "metadata": {
      "needs_background": "light"
     },
     "output_type": "display_data"
    }
   ],
   "source": [
    "plt.figure(figsize=(25, 10))\n",
    "\n",
    "plt.title(\"Three beautiful graphs\")\n",
    "plt.xlabel(\"Axis x\")\n",
    "plt.ylabel(\"Axis y\")\n",
    "\n",
    "plt.plot(x, y1, label=\"np.sin(x) / x\")\n",
    "plt.plot(x, y2, label=\"np.cos(x) / (x ** 2 + 1)\")\n",
    "plt.plot(x, y3, label=\"np.cos(x) ** 2 - np.sin(x) / 2\")\n",
    "plt.legend(loc=\"upper left\")\n",
    "plt.grid()\n",
    "plt.show()"
   ]
  },
  {
   "cell_type": "markdown",
   "metadata": {
    "colab_type": "text",
    "id": "s4WAshbMMBOv"
   },
   "source": [
    "**Задание 2.** Изобразите график плотности распределения случайной величины. \n",
    "[2 бала]"
   ]
  },
  {
   "cell_type": "code",
   "execution_count": 33,
   "metadata": {
    "colab": {},
    "colab_type": "code",
    "id": "We7c8BhhMCHn",
    "pycharm": {
     "is_executing": false
    }
   },
   "outputs": [],
   "source": [
    "d = np.random.normal(loc=3.0, scale=2.5, size=1000)"
   ]
  },
  {
   "cell_type": "code",
   "execution_count": 34,
   "metadata": {
    "colab": {
     "base_uri": "https://localhost:8080/",
     "height": 559
    },
    "colab_type": "code",
    "id": "2w6UfwrTNZEX",
    "outputId": "e8ec9fd3-a035-42c7-f773-1628cc4b0ee0",
    "pycharm": {
     "is_executing": false
    }
   },
   "outputs": [
    {
     "data": {
      "text/plain": "<Figure size 1800x720 with 1 Axes>",
      "image/png": "[encoded data removed]"
     },
     "metadata": {
      "needs_background": "light"
     },
     "output_type": "display_data"
    }
   ],
   "source": [
    "plt.figure(figsize=(25, 10))\n",
    "\n",
    "plt.title(\"Another beautiful graphs\")\n",
    "plt.xlabel(\"Axis x\")\n",
    "plt.ylabel(\"Axis y\")\n",
    "\n",
    "plt.subplots_adjust(left=0.15)\n",
    "\n",
    "plt.hist(d, 50)\n",
    "plt.show()"
   ]
  }
 ],
 "metadata": {
  "colab": {
   "collapsed_sections": [],
   "name": "Hillel_home_work2_python.ipynb",
   "provenance": [],
   "toc_visible": true
  },
  "kernelspec": {
   "display_name": "Python 3",
   "language": "python",
   "name": "python3"
  },
  "language_info": {
   "codemirror_mode": {
    "name": "ipython",
    "version": 3
   },
   "file_extension": ".py",
   "mimetype": "text/x-python",
   "name": "python",
   "nbconvert_exporter": "python",
   "pygments_lexer": "ipython3",
   "version": "3.8.1"
  },
  "pycharm": {
   "stem_cell": {
    "cell_type": "raw",
    "source": [],
    "metadata": {
     "collapsed": false
    }
   }
  }
 },
 "nbformat": 4,
 "nbformat_minor": 1
}